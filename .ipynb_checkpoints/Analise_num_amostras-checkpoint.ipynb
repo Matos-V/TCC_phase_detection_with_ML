{
 "cells": [
  {
   "cell_type": "code",
   "execution_count": null,
   "id": "eb1f0bc6",
   "metadata": {
    "lines_to_next_cell": 0
   },
   "outputs": [],
   "source": [
    "import numpy as np\n",
    "import pandas as pd\n",
    "import matplotlib.pyplot as plt\n",
    "from sklearn.preprocessing import MinMaxScaler\n",
    "from sklearn.model_selection import train_test_split\n",
    "from sklearn.metrics import r2_score, mean_squared_error\n",
    "from tensorflow.keras.layers import Dense, Dropout\n",
    "from tensorflow.keras.models import Sequential\n",
    "from tensorflow.keras.callbacks import EarlyStopping\n",
    "import tensorflow as tf\n",
    "from Funcoes import *\n",
    "import pickle"
   ]
  },
  {
   "cell_type": "code",
   "execution_count": null,
   "id": "3e06eb4b",
   "metadata": {
    "lines_to_next_cell": 0
   },
   "outputs": [],
   "source": [
    "%matplotlib inline"
   ]
  },
  {
   "cell_type": "code",
   "execution_count": null,
   "id": "be0490c0",
   "metadata": {
    "lines_to_next_cell": 0
   },
   "outputs": [],
   "source": [
    "plt.rcParams['font.size'] = 18\n",
    "plt.rcParams['figure.figsize'] = [16, 8]\n",
    "plt.rcParams['lines.linewidth'] = 2"
   ]
  },
  {
   "cell_type": "code",
   "execution_count": null,
   "id": "1ae68685",
   "metadata": {},
   "outputs": [],
   "source": [
    "resultados = dict()\n",
    "for amostras in [2**x for x in range(5,11)]:\n",
    "    print(f'{\"#\"*20} {amostras} Amostras {\"#\"*20}')\n",
    "    M = 16        # ordem da modulação\n",
    "    Fb = 40e9      # taxa de símbolos\n",
    "    SpS = 4         # amostras por símbolo\n",
    "    Fs = SpS*Fb    # taxa de amostragem\n",
    "    SNR = 40        # relação sinal ruído (dB)\n",
    "    rolloff = 0.01  # Rolloff do filtro formatador de pulso\n",
    "    sfm, A = sinal_qam_fase_min(M,Fb,SpS,SNR)\n",
    "    #amostras = 128\n",
    "    dataset , X , y = dataset_02(sfm,amostras)\n",
    "\n",
    "    X_train = X[:50000]\n",
    "    X_test = X[50000:]\n",
    "\n",
    "    y_train = y[:50000]\n",
    "    y_test = y[50000:]\n",
    "    scaler = MinMaxScaler()\n",
    "\n",
    "    X_train = scaler.fit_transform(X_train)\n",
    "    X_test = scaler.transform(X_test)\n",
    "\n",
    "    stop = EarlyStopping(monitor='val_loss', patience=5)\n",
    "    model = Sequential()\n",
    "    model.add(Dense(128, activation='relu', input_shape=(amostras,)))\n",
    "    model.add(Dense(128, activation='relu'))\n",
    "    Dropout(0.5)\n",
    "\n",
    "    model.add(Dense(1))\n",
    "    model.compile(optimizer='adam', loss='mse')\n",
    "    model.fit(X_train, y_train, epochs=300, callbacks=[stop],\n",
    "            validation_data=(X_test, y_test), batch_size=64,verbose=2)\n",
    "    predicoes = model.predict(X_test)\n",
    "    sinal_predito = (dataset['amplitudes'][50000:]*np.exp(1j*predicoes.reshape(-1,))).reshape(1,-1)\n",
    "    sinal_predito_revertido = reverter_sinal_fase_min(sinal_predito ,A).reshape(1,-1)\n",
    "    sinal_predito_filtrado = normcenter(lowpassFilter(sinal_predito_revertido, Fs, 1/Fb, 0.001, taps=4001))\n",
    "    sinal_base_revertido = reverter_sinal_fase_min(sfm[:,50000:60001],A)\n",
    "    teste = str(amostras) + ' Amostras'\n",
    "    resultados[teste] = {'Sinais fase minima':(sfm[:,50000:60001], sinal_predito),\n",
    "                         'Sinais revertidos':(sinal_base_revertido,sinal_predito_revertido),\n",
    "                         'Sinal predito filtrado':(sinal_predito_filtrado)}\n",
    "    print('\\n\\n')\n",
    "print(' FIM ')"
   ]
  },
  {
   "cell_type": "code",
   "execution_count": null,
   "id": "9f9accd8",
   "metadata": {},
   "outputs": [],
   "source": [
    "# nome_arquivo = 'Result_dif_num_amostras.pkl'\n",
    "# arquivo = open(nome_arquivo,'wb')\n",
    "# pickle.dump(resultados,arquivo)\n",
    "# arquivo.close()"
   ]
  }
 ],
 "metadata": {
  "jupytext": {
   "cell_metadata_filter": "-all",
   "formats": "ipynb,py:percent",
   "main_language": "python"
  }
 },
 "nbformat": 4,
 "nbformat_minor": 5
}
