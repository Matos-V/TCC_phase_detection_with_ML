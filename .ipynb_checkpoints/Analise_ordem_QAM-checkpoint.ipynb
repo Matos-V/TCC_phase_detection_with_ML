{
 "cells": [
  {
   "cell_type": "code",
   "execution_count": null,
   "id": "c7bf2e6a",
   "metadata": {
    "lines_to_next_cell": 0
   },
   "outputs": [],
   "source": [
    "import numpy as np\n",
    "import pandas as pd\n",
    "import matplotlib.pyplot as plt\n",
    "from sklearn.preprocessing import MinMaxScaler\n",
    "from sklearn.model_selection import train_test_split\n",
    "from sklearn.metrics import r2_score, mean_squared_error\n",
    "from tensorflow.keras.layers import Dense, Dropout\n",
    "from tensorflow.keras.models import Sequential\n",
    "from tensorflow.keras.callbacks import EarlyStopping\n",
    "import tensorflow as tf\n",
    "from Funcoes import *\n",
    "import pickle"
   ]
  },
  {
   "cell_type": "code",
   "execution_count": null,
   "id": "292a7697",
   "metadata": {
    "lines_to_next_cell": 0
   },
   "outputs": [],
   "source": [
    "%matplotlib inline"
   ]
  },
  {
   "cell_type": "code",
   "execution_count": null,
   "id": "02332807",
   "metadata": {
    "lines_to_next_cell": 0
   },
   "outputs": [],
   "source": [
    "plt.rcParams['font.size'] = 18\n",
    "plt.rcParams['figure.figsize'] = [16, 8]\n",
    "plt.rcParams['lines.linewidth'] = 2"
   ]
  },
  {
   "cell_type": "code",
   "execution_count": null,
   "id": "f6b220b7",
   "metadata": {},
   "outputs": [],
   "source": [
    "resultados = dict()\n",
    "for M in [4 , 8 , 16 , 32 , 64 , 128]:\n",
    "    print(f'{\"#\"*20} {M} QAM {\"#\"*20}')\n",
    "    #M = 64        # ordem da modulação\n",
    "    Fb = 40e9      # taxa de símbolos\n",
    "    SpS = 4         # amostras por símbolo\n",
    "    Fs = SpS*Fb    # taxa de amostragem\n",
    "    SNR = 40        # relação sinal ruído (dB)\n",
    "    rolloff = 0.01  # Rolloff do filtro formatador de pulso\n",
    "    sfm, A = sinal_qam_fase_min(M,Fb,SpS,SNR)\n",
    "    ordem = 128\n",
    "    dataset , X , y = dataset_02(sfm,ordem)\n",
    "\n",
    "    X_train = X[:50000]\n",
    "    X_test = X[50000:]\n",
    "\n",
    "    y_train = y[:50000]\n",
    "    y_test = y[50000:]\n",
    "    scaler = MinMaxScaler()\n",
    "\n",
    "    X_train = scaler.fit_transform(X_train)\n",
    "    X_test = scaler.transform(X_test)\n",
    "\n",
    "    stop = EarlyStopping(monitor='val_loss', patience=5)\n",
    "    model = Sequential()\n",
    "    model.add(Dense(128, activation='relu', input_shape=(ordem,)))\n",
    "    model.add(Dense(128, activation='relu'))\n",
    "    Dropout(0.5)\n",
    "\n",
    "    model.add(Dense(1))\n",
    "    model.compile(optimizer='adam', loss='mse')\n",
    "    model.fit(X_train, y_train, epochs=300, callbacks=[stop],\n",
    "            validation_data=(X_test, y_test), batch_size=64,verbose=2)\n",
    "    predicoes = model.predict(X_test)\n",
    "    sinal_predito = (dataset['amplitudes'][50000:]*np.exp(1j*predicoes.reshape(-1,))).reshape(1,-1)\n",
    "    sinal_predito_revertido = reverter_sinal_fase_min(sinal_predito ,A).reshape(1,-1)\n",
    "    sinal_predito_filtrado = normcenter(lowpassFilter(sinal_predito_revertido, Fs, 1/Fb, 0.001, taps=4001))\n",
    "    sinal_base_revertido = reverter_sinal_fase_min(sfm[:,50000:60001],A)\n",
    "    teste = str(M) + ' QAM'\n",
    "    resultados[teste] = {'Sinais fase minima':(sfm[:,50000:60001], sinal_predito),\n",
    "                         'Sinais revertidos':(sinal_base_revertido,sinal_predito_revertido),\n",
    "                         'Sinal predito filtrado':(sinal_predito_filtrado)}\n",
    "    print('\\n\\n')\n",
    "print(' FIM ')"
   ]
  },
  {
   "cell_type": "code",
   "execution_count": null,
   "id": "7319ba37",
   "metadata": {
    "lines_to_next_cell": 0
   },
   "outputs": [],
   "source": [
    "nome_arquivo = 'Result_dif_ordens_QAM.pkl'\n",
    "arquivo = open(nome_arquivo,'wb')\n",
    "pickle.dump(resultados,arquivo)\n",
    "arquivo.close()"
   ]
  },
  {
   "cell_type": "code",
   "execution_count": null,
   "id": "4485f8a8",
   "metadata": {},
   "outputs": [],
   "source": []
  }
 ],
 "metadata": {
  "jupytext": {
   "cell_metadata_filter": "-all",
   "formats": "ipynb,py:percent",
   "main_language": "python"
  }
 },
 "nbformat": 4,
 "nbformat_minor": 5
}
