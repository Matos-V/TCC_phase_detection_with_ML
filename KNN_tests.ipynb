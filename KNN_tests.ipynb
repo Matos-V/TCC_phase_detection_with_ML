{
 "cells": [
  {
   "cell_type": "code",
   "execution_count": null,
   "id": "varied-economy",
   "metadata": {},
   "outputs": [],
   "source": [
    "from qampy import signals, impairments, equalisation, phaserec, helpers\n",
    "from qampy.theory import ber_vs_es_over_n0_qam as ber_theory\n",
    "from qampy.helpers import normalise_and_center as normcenter\n",
    "from qampy.core.filter import rrcos_pulseshaping as lowpassFilter\n",
    "import matplotlib.pyplot as plt\n",
    "import numpy as np\n",
    "import seaborn as sns\n",
    "import pandas as pd\n",
    "from sklearn.metrics import mean_squared_error, r2_score\n",
    "from sklearn.preprocessing import MinMaxScaler, StandardScaler\n",
    "from sklearn.neighbors import KNeighborsRegressor"
   ]
  },
  {
   "cell_type": "code",
   "execution_count": null,
   "id": "involved-insured",
   "metadata": {},
   "outputs": [],
   "source": [
    "plt.rcParams['font.size'] = 18\n",
    "plt.rcParams['figure.figsize'] = [16, 8]\n",
    "plt.rcParams['lines.linewidth'] = 2"
   ]
  },
  {
   "cell_type": "code",
   "execution_count": null,
   "id": "respected-history",
   "metadata": {},
   "outputs": [],
   "source": [
    "dataset_train = pd.read_pickle('Testes_sinais_digitais/dataset_train_02.pkl')\n",
    "dataset_test = pd.read_pickle('Testes_sinais_digitais/dataset_test_02.pkl')\n",
    "data_shape = dataset_train.shape[-1]\n",
    "num_features = data_shape-1"
   ]
  },
  {
   "cell_type": "code",
   "execution_count": null,
   "id": "infrared-prompt",
   "metadata": {
    "lines_to_next_cell": 0
   },
   "outputs": [],
   "source": [
    "X_train = dataset_train.drop(\n",
    "    data_shape-1, axis=1).values.reshape(-1, num_features)\n",
    "X_test = dataset_test.drop(\n",
    "    data_shape-1, axis=1).values.reshape(-1, num_features)\n",
    "\n",
    "y_train = dataset_train[data_shape-1].values.reshape(-1, 1)\n",
    "y_test = dataset_test[data_shape-1].values.reshape(-1, 1)"
   ]
  },
  {
   "cell_type": "code",
   "execution_count": null,
   "id": "perfect-positive",
   "metadata": {},
   "outputs": [],
   "source": [
    "scaler = MinMaxScaler()"
   ]
  },
  {
   "cell_type": "code",
   "execution_count": null,
   "id": "younger-target",
   "metadata": {
    "lines_to_next_cell": 0
   },
   "outputs": [],
   "source": [
    "X_train = scaler.fit_transform(X_train)\n",
    "X_test = scaler.transform(X_test)"
   ]
  },
  {
   "cell_type": "code",
   "execution_count": null,
   "id": "banned-contract",
   "metadata": {
    "lines_to_next_cell": 0
   },
   "outputs": [],
   "source": [
    "n_neighbors = 9\n",
    "\n",
    "for i, weights in enumerate(['uniform', 'distance']):\n",
    "    knn = KNeighborsRegressor(n_neighbors, weights=weights)\n",
    "    y_preds = knn.fit(X_train, y_train).predict(X_test)\n",
    "    print('rmse = ', np.sqrt(mean_squared_error(y_test, y_preds)))\n",
    "    print('r2 = ', r2_score(y_test, y_preds))\n",
    "\n",
    "    plt.subplot(2, 1, i + 1)\n",
    "    plt.plot(y_test[:50], color='darkorange', label='data',)\n",
    "    plt.plot(y_preds[:50], color='navy', label='prediction')\n",
    "    plt.axis('tight')\n",
    "    plt.legend()\n",
    "    plt.title(\"KNeighborsRegressor (k = %i, weights = '%s')\" % (n_neighbors,\n",
    "                                                                weights))"
   ]
  },
  {
   "cell_type": "code",
   "execution_count": null,
   "id": "humanitarian-command",
   "metadata": {
    "lines_to_next_cell": 0
   },
   "outputs": [],
   "source": [
    "r2 = []\n",
    "for n_neighbors in range(1, 65):\n",
    "    knn = KNeighborsRegressor(n_neighbors, weights='distance',)\n",
    "    y_preds = knn.fit(X_train, y_train).predict(X_test)\n",
    "    score = r2_score(y_test, y_preds)\n",
    "    r2.append(score)\n",
    "r2 = np.array(r2)\n",
    "plt.plot(r2)\n",
    "plt.grid(True)\n",
    "max_r2 = np.max(r2)\n",
    "best_neighbors = np.argmax(r2)+1\n",
    "plt.legend([f'best neighbors = {best_neighbors}'])\n",
    "plt.title(f'r2 max = {np.round(max_r2,2)}')"
   ]
  },
  {
   "cell_type": "code",
   "execution_count": null,
   "id": "promotional-affairs",
   "metadata": {
    "lines_to_next_cell": 0
   },
   "outputs": [],
   "source": [
    "\n",
    "knn = KNeighborsRegressor(best_neighbors, weights='distance',)\n",
    "y_preds = knn.fit(X_train, y_train).predict(X_test)"
   ]
  },
  {
   "cell_type": "code",
   "execution_count": null,
   "id": "junior-sugar",
   "metadata": {
    "lines_to_next_cell": 0
   },
   "outputs": [],
   "source": [
    "print('rmse = ', np.sqrt(mean_squared_error(y_test, y_preds)))\n",
    "print('r2 = ', r2_score(y_test, y_preds))"
   ]
  },
  {
   "cell_type": "code",
   "execution_count": null,
   "id": "marine-mattress",
   "metadata": {},
   "outputs": [],
   "source": [
    "plt.figure(figsize=(16, 8))\n",
    "plt.plot(y_test[:50], '-o')\n",
    "plt.plot(y_preds[:50], '-o')\n",
    "plt.xlabel('Symbol')\n",
    "plt.ylabel('phase (rad)')\n",
    "plt.legend(['True phases', 'predicted phases'])\n",
    "plt.title('True and predicted phases comparison')\n",
    "plt.grid(True)\n",
    "plt.show()"
   ]
  },
  {
   "cell_type": "code",
   "execution_count": null,
   "id": "multiple-liberia",
   "metadata": {},
   "outputs": [],
   "source": []
  }
 ],
 "metadata": {
  "jupytext": {
   "cell_metadata_filter": "-all",
   "formats": "ipynb,py:percent",
   "main_language": "python"
  }
 },
 "nbformat": 4,
 "nbformat_minor": 5
}
