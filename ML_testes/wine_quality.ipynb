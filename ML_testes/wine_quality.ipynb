{
 "cells": [
  {
   "cell_type": "code",
   "execution_count": 1,
   "metadata": {},
   "outputs": [],
   "source": [
    "import pandas as pd\n",
    "import numpy as np\n",
    "import matplotlib.pyplot as plt\n",
    "import seaborn as sns\n",
    "import tensorflow_datasets as tfds"
   ]
  },
  {
   "cell_type": "code",
   "execution_count": 6,
   "metadata": {},
   "outputs": [
    {
     "data": {
      "text/html": [
       "<div>\n",
       "<style scoped>\n",
       "    .dataframe tbody tr th:only-of-type {\n",
       "        vertical-align: middle;\n",
       "    }\n",
       "\n",
       "    .dataframe tbody tr th {\n",
       "        vertical-align: top;\n",
       "    }\n",
       "\n",
       "    .dataframe thead th {\n",
       "        text-align: right;\n",
       "    }\n",
       "</style>\n",
       "<table border=\"1\" class=\"dataframe\">\n",
       "  <thead>\n",
       "    <tr style=\"text-align: right;\">\n",
       "      <th></th>\n",
       "      <th>0</th>\n",
       "      <th>1</th>\n",
       "    </tr>\n",
       "  </thead>\n",
       "  <tbody>\n",
       "    <tr>\n",
       "      <th>features/alcohol</th>\n",
       "      <td>9.0000</td>\n",
       "      <td>12.2000</td>\n",
       "    </tr>\n",
       "    <tr>\n",
       "      <th>features/chlorides</th>\n",
       "      <td>0.0540</td>\n",
       "      <td>0.0630</td>\n",
       "    </tr>\n",
       "    <tr>\n",
       "      <th>features/citric acid</th>\n",
       "      <td>0.3400</td>\n",
       "      <td>0.4900</td>\n",
       "    </tr>\n",
       "    <tr>\n",
       "      <th>features/density</th>\n",
       "      <td>1.0008</td>\n",
       "      <td>0.9911</td>\n",
       "    </tr>\n",
       "    <tr>\n",
       "      <th>features/fixed acidity</th>\n",
       "      <td>7.6000</td>\n",
       "      <td>6.3000</td>\n",
       "    </tr>\n",
       "    <tr>\n",
       "      <th>features/free sulfur dioxide</th>\n",
       "      <td>44.0000</td>\n",
       "      <td>35.0000</td>\n",
       "    </tr>\n",
       "    <tr>\n",
       "      <th>features/pH</th>\n",
       "      <td>3.2200</td>\n",
       "      <td>3.3800</td>\n",
       "    </tr>\n",
       "    <tr>\n",
       "      <th>features/residual sugar</th>\n",
       "      <td>18.3500</td>\n",
       "      <td>1.2000</td>\n",
       "    </tr>\n",
       "    <tr>\n",
       "      <th>features/sulphates</th>\n",
       "      <td>0.5500</td>\n",
       "      <td>0.4200</td>\n",
       "    </tr>\n",
       "    <tr>\n",
       "      <th>features/total sulfur dioxide</th>\n",
       "      <td>197.0000</td>\n",
       "      <td>92.0000</td>\n",
       "    </tr>\n",
       "    <tr>\n",
       "      <th>features/volatile acidity</th>\n",
       "      <td>0.3200</td>\n",
       "      <td>0.2700</td>\n",
       "    </tr>\n",
       "    <tr>\n",
       "      <th>quality</th>\n",
       "      <td>5.0000</td>\n",
       "      <td>6.0000</td>\n",
       "    </tr>\n",
       "  </tbody>\n",
       "</table>\n",
       "</div>"
      ],
      "text/plain": [
       "                                      0        1\n",
       "features/alcohol                 9.0000  12.2000\n",
       "features/chlorides               0.0540   0.0630\n",
       "features/citric acid             0.3400   0.4900\n",
       "features/density                 1.0008   0.9911\n",
       "features/fixed acidity           7.6000   6.3000\n",
       "features/free sulfur dioxide    44.0000  35.0000\n",
       "features/pH                      3.2200   3.3800\n",
       "features/residual sugar         18.3500   1.2000\n",
       "features/sulphates               0.5500   0.4200\n",
       "features/total sulfur dioxide  197.0000  92.0000\n",
       "features/volatile acidity        0.3200   0.2700\n",
       "quality                          5.0000   6.0000"
      ]
     },
     "execution_count": 6,
     "metadata": {},
     "output_type": "execute_result"
    }
   ],
   "source": [
    "dataset,info= tfds.load('wine_quality',split='train',with_info=True)\n",
    "# %%\n",
    "dataset = tfds.as_dataframe(dataset.take(4500),info)\n",
    "dataset.head(2).transpose()"
   ]
  },
  {
   "cell_type": "code",
   "execution_count": 7,
   "metadata": {},
   "outputs": [
    {
     "data": {
      "text/html": [
       "<div>\n",
       "<style scoped>\n",
       "    .dataframe tbody tr th:only-of-type {\n",
       "        vertical-align: middle;\n",
       "    }\n",
       "\n",
       "    .dataframe tbody tr th {\n",
       "        vertical-align: top;\n",
       "    }\n",
       "\n",
       "    .dataframe thead th {\n",
       "        text-align: right;\n",
       "    }\n",
       "</style>\n",
       "<table border=\"1\" class=\"dataframe\">\n",
       "  <thead>\n",
       "    <tr style=\"text-align: right;\">\n",
       "      <th></th>\n",
       "      <th>count</th>\n",
       "      <th>mean</th>\n",
       "      <th>std</th>\n",
       "      <th>min</th>\n",
       "      <th>25%</th>\n",
       "      <th>50%</th>\n",
       "      <th>75%</th>\n",
       "      <th>max</th>\n",
       "    </tr>\n",
       "  </thead>\n",
       "  <tbody>\n",
       "    <tr>\n",
       "      <th>features/alcohol</th>\n",
       "      <td>4500.0</td>\n",
       "      <td>10.518530</td>\n",
       "      <td>1.231333</td>\n",
       "      <td>8.00000</td>\n",
       "      <td>9.5000</td>\n",
       "      <td>10.4000</td>\n",
       "      <td>11.40000</td>\n",
       "      <td>14.200000</td>\n",
       "    </tr>\n",
       "    <tr>\n",
       "      <th>features/chlorides</th>\n",
       "      <td>4500.0</td>\n",
       "      <td>0.045825</td>\n",
       "      <td>0.022167</td>\n",
       "      <td>0.00900</td>\n",
       "      <td>0.0360</td>\n",
       "      <td>0.0430</td>\n",
       "      <td>0.05000</td>\n",
       "      <td>0.346000</td>\n",
       "    </tr>\n",
       "    <tr>\n",
       "      <th>features/citric acid</th>\n",
       "      <td>4500.0</td>\n",
       "      <td>0.333707</td>\n",
       "      <td>0.119491</td>\n",
       "      <td>0.00000</td>\n",
       "      <td>0.2700</td>\n",
       "      <td>0.3200</td>\n",
       "      <td>0.39000</td>\n",
       "      <td>1.230000</td>\n",
       "    </tr>\n",
       "    <tr>\n",
       "      <th>features/density</th>\n",
       "      <td>4500.0</td>\n",
       "      <td>0.994025</td>\n",
       "      <td>0.003011</td>\n",
       "      <td>0.98711</td>\n",
       "      <td>0.9917</td>\n",
       "      <td>0.9937</td>\n",
       "      <td>0.99612</td>\n",
       "      <td>1.038980</td>\n",
       "    </tr>\n",
       "    <tr>\n",
       "      <th>features/fixed acidity</th>\n",
       "      <td>4500.0</td>\n",
       "      <td>6.849833</td>\n",
       "      <td>0.845490</td>\n",
       "      <td>3.80000</td>\n",
       "      <td>6.3000</td>\n",
       "      <td>6.8000</td>\n",
       "      <td>7.30000</td>\n",
       "      <td>14.200000</td>\n",
       "    </tr>\n",
       "    <tr>\n",
       "      <th>features/free sulfur dioxide</th>\n",
       "      <td>4500.0</td>\n",
       "      <td>35.329333</td>\n",
       "      <td>17.021765</td>\n",
       "      <td>2.00000</td>\n",
       "      <td>23.0000</td>\n",
       "      <td>34.0000</td>\n",
       "      <td>46.00000</td>\n",
       "      <td>289.000000</td>\n",
       "    </tr>\n",
       "    <tr>\n",
       "      <th>features/pH</th>\n",
       "      <td>4500.0</td>\n",
       "      <td>3.187802</td>\n",
       "      <td>0.151019</td>\n",
       "      <td>2.72000</td>\n",
       "      <td>3.0875</td>\n",
       "      <td>3.1800</td>\n",
       "      <td>3.28000</td>\n",
       "      <td>3.820000</td>\n",
       "    </tr>\n",
       "    <tr>\n",
       "      <th>features/residual sugar</th>\n",
       "      <td>4500.0</td>\n",
       "      <td>6.416989</td>\n",
       "      <td>5.107076</td>\n",
       "      <td>0.60000</td>\n",
       "      <td>1.7000</td>\n",
       "      <td>5.2000</td>\n",
       "      <td>9.90000</td>\n",
       "      <td>65.800003</td>\n",
       "    </tr>\n",
       "    <tr>\n",
       "      <th>features/sulphates</th>\n",
       "      <td>4500.0</td>\n",
       "      <td>0.489416</td>\n",
       "      <td>0.114016</td>\n",
       "      <td>0.22000</td>\n",
       "      <td>0.4100</td>\n",
       "      <td>0.4700</td>\n",
       "      <td>0.55000</td>\n",
       "      <td>1.080000</td>\n",
       "    </tr>\n",
       "    <tr>\n",
       "      <th>features/total sulfur dioxide</th>\n",
       "      <td>4500.0</td>\n",
       "      <td>138.424556</td>\n",
       "      <td>42.568364</td>\n",
       "      <td>9.00000</td>\n",
       "      <td>108.0000</td>\n",
       "      <td>134.0000</td>\n",
       "      <td>167.00000</td>\n",
       "      <td>440.000000</td>\n",
       "    </tr>\n",
       "    <tr>\n",
       "      <th>features/volatile acidity</th>\n",
       "      <td>4500.0</td>\n",
       "      <td>0.278108</td>\n",
       "      <td>0.100292</td>\n",
       "      <td>0.08000</td>\n",
       "      <td>0.2100</td>\n",
       "      <td>0.2600</td>\n",
       "      <td>0.32000</td>\n",
       "      <td>1.100000</td>\n",
       "    </tr>\n",
       "    <tr>\n",
       "      <th>quality</th>\n",
       "      <td>4500.0</td>\n",
       "      <td>5.881556</td>\n",
       "      <td>0.879728</td>\n",
       "      <td>3.00000</td>\n",
       "      <td>5.0000</td>\n",
       "      <td>6.0000</td>\n",
       "      <td>6.00000</td>\n",
       "      <td>9.000000</td>\n",
       "    </tr>\n",
       "  </tbody>\n",
       "</table>\n",
       "</div>"
      ],
      "text/plain": [
       "                                count        mean        std      min  \\\n",
       "features/alcohol               4500.0   10.518530   1.231333  8.00000   \n",
       "features/chlorides             4500.0    0.045825   0.022167  0.00900   \n",
       "features/citric acid           4500.0    0.333707   0.119491  0.00000   \n",
       "features/density               4500.0    0.994025   0.003011  0.98711   \n",
       "features/fixed acidity         4500.0    6.849833   0.845490  3.80000   \n",
       "features/free sulfur dioxide   4500.0   35.329333  17.021765  2.00000   \n",
       "features/pH                    4500.0    3.187802   0.151019  2.72000   \n",
       "features/residual sugar        4500.0    6.416989   5.107076  0.60000   \n",
       "features/sulphates             4500.0    0.489416   0.114016  0.22000   \n",
       "features/total sulfur dioxide  4500.0  138.424556  42.568364  9.00000   \n",
       "features/volatile acidity      4500.0    0.278108   0.100292  0.08000   \n",
       "quality                        4500.0    5.881556   0.879728  3.00000   \n",
       "\n",
       "                                    25%       50%        75%         max  \n",
       "features/alcohol                 9.5000   10.4000   11.40000   14.200000  \n",
       "features/chlorides               0.0360    0.0430    0.05000    0.346000  \n",
       "features/citric acid             0.2700    0.3200    0.39000    1.230000  \n",
       "features/density                 0.9917    0.9937    0.99612    1.038980  \n",
       "features/fixed acidity           6.3000    6.8000    7.30000   14.200000  \n",
       "features/free sulfur dioxide    23.0000   34.0000   46.00000  289.000000  \n",
       "features/pH                      3.0875    3.1800    3.28000    3.820000  \n",
       "features/residual sugar          1.7000    5.2000    9.90000   65.800003  \n",
       "features/sulphates               0.4100    0.4700    0.55000    1.080000  \n",
       "features/total sulfur dioxide  108.0000  134.0000  167.00000  440.000000  \n",
       "features/volatile acidity        0.2100    0.2600    0.32000    1.100000  \n",
       "quality                          5.0000    6.0000    6.00000    9.000000  "
      ]
     },
     "execution_count": 7,
     "metadata": {},
     "output_type": "execute_result"
    }
   ],
   "source": [
    "dataset.describe().transpose()"
   ]
  },
  {
   "cell_type": "code",
   "execution_count": 74,
   "metadata": {},
   "outputs": [
    {
     "name": "stdout",
     "output_type": "stream",
     "text": [
      "<class 'tensorflow_datasets.core.as_dataframe.StyledDataFrame'>\n",
      "RangeIndex: 4500 entries, 0 to 4499\n",
      "Data columns (total 12 columns):\n",
      " #   Column                         Non-Null Count  Dtype  \n",
      "---  ------                         --------------  -----  \n",
      " 0   features/alcohol               4500 non-null   float64\n",
      " 1   features/chlorides             4500 non-null   float64\n",
      " 2   features/citric acid           4500 non-null   float64\n",
      " 3   features/density               4500 non-null   float64\n",
      " 4   features/fixed acidity         4500 non-null   float64\n",
      " 5   features/free sulfur dioxide   4500 non-null   float64\n",
      " 6   features/pH                    4500 non-null   float64\n",
      " 7   features/residual sugar        4500 non-null   float64\n",
      " 8   features/sulphates             4500 non-null   float64\n",
      " 9   features/total sulfur dioxide  4500 non-null   float64\n",
      " 10  features/volatile acidity      4500 non-null   float64\n",
      " 11  quality                        4500 non-null   int64  \n",
      "dtypes: float64(11), int64(1)\n",
      "memory usage: 422.0 KB\n"
     ]
    }
   ],
   "source": [
    "dataset.info()"
   ]
  },
  {
   "cell_type": "code",
   "execution_count": 77,
   "metadata": {},
   "outputs": [
    {
     "data": {
      "text/plain": [
       "<AxesSubplot:>"
      ]
     },
     "execution_count": 77,
     "metadata": {},
     "output_type": "execute_result"
    },
    {
     "data": {
      "image/png": "[encoded data removed]",
      "text/plain": [
       "<Figure size 864x720 with 2 Axes>"
      ]
     },
     "metadata": {
      "needs_background": "light"
     },
     "output_type": "display_data"
    }
   ],
   "source": [
    "plt.figure(figsize=(12,10))\n",
    "sns.heatmap(dataset.corr(),annot=True)"
   ]
  },
  {
   "cell_type": "code",
   "execution_count": 9,
   "metadata": {},
   "outputs": [
    {
     "data": {
      "text/plain": [
       "6    2040\n",
       "5    1328\n",
       "7     807\n",
       "8     159\n",
       "4     144\n",
       "3      18\n",
       "9       4\n",
       "Name: quality, dtype: int64"
      ]
     },
     "execution_count": 9,
     "metadata": {},
     "output_type": "execute_result"
    }
   ],
   "source": [
    "dataset['quality'].value_counts()"
   ]
  },
  {
   "cell_type": "code",
   "execution_count": 10,
   "metadata": {},
   "outputs": [
    {
     "data": {
      "text/html": [
       "<div>\n",
       "<style scoped>\n",
       "    .dataframe tbody tr th:only-of-type {\n",
       "        vertical-align: middle;\n",
       "    }\n",
       "\n",
       "    .dataframe tbody tr th {\n",
       "        vertical-align: top;\n",
       "    }\n",
       "\n",
       "    .dataframe thead th {\n",
       "        text-align: right;\n",
       "    }\n",
       "</style>\n",
       "<table border=\"1\" class=\"dataframe\">\n",
       "  <thead>\n",
       "    <tr style=\"text-align: right;\">\n",
       "      <th></th>\n",
       "      <th>3</th>\n",
       "      <th>4</th>\n",
       "      <th>5</th>\n",
       "      <th>6</th>\n",
       "      <th>7</th>\n",
       "      <th>8</th>\n",
       "      <th>9</th>\n",
       "    </tr>\n",
       "  </thead>\n",
       "  <tbody>\n",
       "    <tr>\n",
       "      <th>0</th>\n",
       "      <td>0</td>\n",
       "      <td>0</td>\n",
       "      <td>1</td>\n",
       "      <td>0</td>\n",
       "      <td>0</td>\n",
       "      <td>0</td>\n",
       "      <td>0</td>\n",
       "    </tr>\n",
       "    <tr>\n",
       "      <th>1</th>\n",
       "      <td>0</td>\n",
       "      <td>0</td>\n",
       "      <td>0</td>\n",
       "      <td>1</td>\n",
       "      <td>0</td>\n",
       "      <td>0</td>\n",
       "      <td>0</td>\n",
       "    </tr>\n",
       "    <tr>\n",
       "      <th>2</th>\n",
       "      <td>0</td>\n",
       "      <td>1</td>\n",
       "      <td>0</td>\n",
       "      <td>0</td>\n",
       "      <td>0</td>\n",
       "      <td>0</td>\n",
       "      <td>0</td>\n",
       "    </tr>\n",
       "    <tr>\n",
       "      <th>3</th>\n",
       "      <td>0</td>\n",
       "      <td>0</td>\n",
       "      <td>0</td>\n",
       "      <td>1</td>\n",
       "      <td>0</td>\n",
       "      <td>0</td>\n",
       "      <td>0</td>\n",
       "    </tr>\n",
       "    <tr>\n",
       "      <th>4</th>\n",
       "      <td>0</td>\n",
       "      <td>0</td>\n",
       "      <td>0</td>\n",
       "      <td>1</td>\n",
       "      <td>0</td>\n",
       "      <td>0</td>\n",
       "      <td>0</td>\n",
       "    </tr>\n",
       "  </tbody>\n",
       "</table>\n",
       "</div>"
      ],
      "text/plain": [
       "   3  4  5  6  7  8  9\n",
       "0  0  0  1  0  0  0  0\n",
       "1  0  0  0  1  0  0  0\n",
       "2  0  1  0  0  0  0  0\n",
       "3  0  0  0  1  0  0  0\n",
       "4  0  0  0  1  0  0  0"
      ]
     },
     "execution_count": 10,
     "metadata": {},
     "output_type": "execute_result"
    }
   ],
   "source": [
    "labels = pd.get_dummies(dataset['quality'])\n",
    "labels.head()"
   ]
  },
  {
   "cell_type": "code",
   "execution_count": 84,
   "metadata": {},
   "outputs": [
    {
     "data": {
      "text/html": [
       "<div>\n",
       "<style scoped>\n",
       "    .dataframe tbody tr th:only-of-type {\n",
       "        vertical-align: middle;\n",
       "    }\n",
       "\n",
       "    .dataframe tbody tr th {\n",
       "        vertical-align: top;\n",
       "    }\n",
       "\n",
       "    .dataframe thead th {\n",
       "        text-align: right;\n",
       "    }\n",
       "</style>\n",
       "<table border=\"1\" class=\"dataframe\">\n",
       "  <thead>\n",
       "    <tr style=\"text-align: right;\">\n",
       "      <th></th>\n",
       "      <th>features/alcohol</th>\n",
       "      <th>features/chlorides</th>\n",
       "      <th>features/density</th>\n",
       "      <th>features/fixed acidity</th>\n",
       "      <th>features/pH</th>\n",
       "      <th>features/residual sugar</th>\n",
       "      <th>features/sulphates</th>\n",
       "      <th>features/total sulfur dioxide</th>\n",
       "      <th>features/volatile acidity</th>\n",
       "    </tr>\n",
       "  </thead>\n",
       "  <tbody>\n",
       "    <tr>\n",
       "      <th>0</th>\n",
       "      <td>9.0</td>\n",
       "      <td>0.054</td>\n",
       "      <td>1.00080</td>\n",
       "      <td>7.6</td>\n",
       "      <td>3.22</td>\n",
       "      <td>18.35</td>\n",
       "      <td>0.55</td>\n",
       "      <td>197.0</td>\n",
       "      <td>0.32</td>\n",
       "    </tr>\n",
       "    <tr>\n",
       "      <th>1</th>\n",
       "      <td>12.2</td>\n",
       "      <td>0.063</td>\n",
       "      <td>0.99110</td>\n",
       "      <td>6.3</td>\n",
       "      <td>3.38</td>\n",
       "      <td>1.20</td>\n",
       "      <td>0.42</td>\n",
       "      <td>92.0</td>\n",
       "      <td>0.27</td>\n",
       "    </tr>\n",
       "    <tr>\n",
       "      <th>2</th>\n",
       "      <td>11.2</td>\n",
       "      <td>0.029</td>\n",
       "      <td>0.99076</td>\n",
       "      <td>5.3</td>\n",
       "      <td>3.51</td>\n",
       "      <td>1.10</td>\n",
       "      <td>0.48</td>\n",
       "      <td>51.0</td>\n",
       "      <td>0.43</td>\n",
       "    </tr>\n",
       "    <tr>\n",
       "      <th>3</th>\n",
       "      <td>9.0</td>\n",
       "      <td>0.110</td>\n",
       "      <td>0.99672</td>\n",
       "      <td>6.6</td>\n",
       "      <td>3.08</td>\n",
       "      <td>10.70</td>\n",
       "      <td>0.41</td>\n",
       "      <td>103.0</td>\n",
       "      <td>0.41</td>\n",
       "    </tr>\n",
       "    <tr>\n",
       "      <th>4</th>\n",
       "      <td>12.0</td>\n",
       "      <td>0.035</td>\n",
       "      <td>0.99016</td>\n",
       "      <td>5.9</td>\n",
       "      <td>3.09</td>\n",
       "      <td>3.80</td>\n",
       "      <td>0.34</td>\n",
       "      <td>135.0</td>\n",
       "      <td>0.34</td>\n",
       "    </tr>\n",
       "  </tbody>\n",
       "</table>\n",
       "</div>"
      ],
      "text/plain": [
       "   features/alcohol  features/chlorides  features/density  \\\n",
       "0               9.0               0.054           1.00080   \n",
       "1              12.2               0.063           0.99110   \n",
       "2              11.2               0.029           0.99076   \n",
       "3               9.0               0.110           0.99672   \n",
       "4              12.0               0.035           0.99016   \n",
       "\n",
       "   features/fixed acidity  features/pH  features/residual sugar  \\\n",
       "0                     7.6         3.22                    18.35   \n",
       "1                     6.3         3.38                     1.20   \n",
       "2                     5.3         3.51                     1.10   \n",
       "3                     6.6         3.08                    10.70   \n",
       "4                     5.9         3.09                     3.80   \n",
       "\n",
       "   features/sulphates  features/total sulfur dioxide  \\\n",
       "0                0.55                          197.0   \n",
       "1                0.42                           92.0   \n",
       "2                0.48                           51.0   \n",
       "3                0.41                          103.0   \n",
       "4                0.34                          135.0   \n",
       "\n",
       "   features/volatile acidity  \n",
       "0                       0.32  \n",
       "1                       0.27  \n",
       "2                       0.43  \n",
       "3                       0.41  \n",
       "4                       0.34  "
      ]
     },
     "execution_count": 84,
     "metadata": {},
     "output_type": "execute_result"
    }
   ],
   "source": [
    "features = dataset.drop(['quality','features/citric acid','features/free sulfur dioxide'],axis=1)\n",
    "features.head()"
   ]
  },
  {
   "cell_type": "code",
   "execution_count": 12,
   "metadata": {},
   "outputs": [],
   "source": [
    "from sklearn.model_selection import train_test_split\n",
    "from sklearn.preprocessing import MinMaxScaler\n",
    "from tensorflow.keras.layers import Dense,Dropout\n",
    "from tensorflow.keras.models import Sequential\n",
    "from tensorflow.keras.callbacks import EarlyStopping"
   ]
  },
  {
   "cell_type": "code",
   "execution_count": 146,
   "metadata": {},
   "outputs": [],
   "source": [
    "X_train, X_test, y_train, y_test = train_test_split(features.values, labels.values, test_size=0.3, random_state=42)"
   ]
  },
  {
   "cell_type": "code",
   "execution_count": 147,
   "metadata": {},
   "outputs": [],
   "source": [
    "scaler = MinMaxScaler()\n",
    "X_train = scaler.fit_transform(X_train)\n",
    "X_test = scaler.transform(X_test)"
   ]
  },
  {
   "cell_type": "code",
   "execution_count": 139,
   "metadata": {},
   "outputs": [],
   "source": [
    "early_stop = EarlyStopping(monitor='val_loss', mode='min', verbose=1, patience=15)"
   ]
  },
  {
   "cell_type": "code",
   "execution_count": 157,
   "metadata": {},
   "outputs": [],
   "source": [
    "model = Sequential()\n",
    "model.add(Dense(units=9,activation='relu'))\n",
    "\n",
    "model.add(Dense(units=8,activation='relu'))\n",
    "\n",
    "model.add(Dense(units=7,activation='softmax'))\n",
    "model.compile(optimizer='adam',\n",
    "                  loss='mse',\n",
    "                  metrics=['accuracy'])"
   ]
  },
  {
   "cell_type": "code",
   "execution_count": 158,
   "metadata": {},
   "outputs": [
    {
     "data": {
      "text/plain": [
       "<tensorflow.python.keras.callbacks.History at 0x1a498c81b48>"
      ]
     },
     "execution_count": 158,
     "metadata": {},
     "output_type": "execute_result"
    }
   ],
   "source": [
    "model.fit(x=X_train, \n",
    "          y=y_train, \n",
    "          epochs=400,\n",
    "          validation_data=(X_test, y_test), verbose=0,\n",
    "          callbacks=[early_stop], batch_size=128,\n",
    "          )"
   ]
  },
  {
   "cell_type": "code",
   "execution_count": 159,
   "metadata": {},
   "outputs": [
    {
     "data": {
      "text/plain": [
       "<AxesSubplot:>"
      ]
     },
     "execution_count": 159,
     "metadata": {},
     "output_type": "execute_result"
    },
    {
     "data": {
      "image/png": "[encoded data removed]",
      "text/plain": [
       "<Figure size 432x288 with 1 Axes>"
      ]
     },
     "metadata": {
      "needs_background": "light"
     },
     "output_type": "display_data"
    }
   ],
   "source": [
    "pd.DataFrame( model.history.history).plot()"
   ]
  },
  {
   "cell_type": "code",
   "execution_count": 160,
   "metadata": {},
   "outputs": [
    {
     "data": {
      "text/plain": [
       "array([[0.00701737, 0.01757749, 0.4262364 , ..., 0.06906335, 0.00576693,\n",
       "        0.00196823],\n",
       "       [0.00948033, 0.06146457, 0.58702004, ..., 0.03366998, 0.00568219,\n",
       "        0.00335514],\n",
       "       [0.0053405 , 0.00663045, 0.14578031, ..., 0.19481753, 0.02170296,\n",
       "        0.00179887],\n",
       "       ...,\n",
       "       [0.00387624, 0.00514269, 0.13006715, ..., 0.19189337, 0.02332517,\n",
       "        0.00122896],\n",
       "       [0.01603328, 0.01748117, 0.27695557, ..., 0.10709383, 0.00773383,\n",
       "        0.0048926 ],\n",
       "       [0.00175848, 0.00351941, 0.05614262, ..., 0.33048052, 0.09511015,\n",
       "        0.00089337]], dtype=float32)"
      ]
     },
     "execution_count": 160,
     "metadata": {},
     "output_type": "execute_result"
    }
   ],
   "source": [
    "preds = model.predict(X_test)\n",
    "preds"
   ]
  },
  {
   "cell_type": "code",
   "execution_count": 161,
   "metadata": {},
   "outputs": [],
   "source": [
    "from tensorflow.keras.metrics import CategoricalAccuracy"
   ]
  },
  {
   "cell_type": "code",
   "execution_count": 162,
   "metadata": {},
   "outputs": [
    {
     "data": {
      "text/plain": [
       "0.52148145"
      ]
     },
     "execution_count": 162,
     "metadata": {},
     "output_type": "execute_result"
    }
   ],
   "source": [
    "m = CategoricalAccuracy()\n",
    "m.update_state(y_test,preds)\n",
    "m.result().numpy()"
   ]
  }
 ],
 "metadata": {
  "kernelspec": {
   "display_name": "Python 3",
   "language": "python",
   "name": "python3"
  },
  "language_info": {
   "codemirror_mode": {
    "name": "ipython",
    "version": 3
   },
   "file_extension": ".py",
   "mimetype": "text/x-python",
   "name": "python",
   "nbconvert_exporter": "python",
   "pygments_lexer": "ipython3",
   "version": "3.7.9"
  }
 },
 "nbformat": 4,
 "nbformat_minor": 4
}
