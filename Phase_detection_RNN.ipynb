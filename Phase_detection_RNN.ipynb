{
 "cells": [
  {
   "cell_type": "code",
   "execution_count": null,
   "id": "related-london",
   "metadata": {
    "lines_to_next_cell": 2
   },
   "outputs": [],
   "source": [
    "from qampy import signals, impairments, equalisation, phaserec, helpers\n",
    "from qampy.theory import ber_vs_es_over_n0_qam as ber_theory\n",
    "from qampy.helpers import normalise_and_center as normcenter\n",
    "from qampy.core.filter import rrcos_pulseshaping as lowpassFilter\n",
    "import matplotlib.pyplot as plt\n",
    "import numpy as np\n",
    "import seaborn as sns\n",
    "import pandas as pd\n",
    "import tensorflow as tf\n",
    "from tensorflow.keras.layers import Dense,Dropout,SimpleRNN,LSTM\n",
    "from tensorflow.keras.models import Sequential\n",
    "from tensorflow.keras.callbacks import EarlyStopping\n",
    "from sklearn.metrics import mean_squared_error,r2_score\n",
    "from sklearn.preprocessing import MinMaxScaler,StandardScaler\n",
    "from tensorflow.keras.preprocessing.sequence import TimeseriesGenerator"
   ]
  },
  {
   "cell_type": "code",
   "execution_count": null,
   "id": "serious-hazard",
   "metadata": {},
   "outputs": [],
   "source": [
    "plt.rcParams['font.size'] = 18\n",
    "plt.rcParams['figure.figsize'] = [16,8]\n",
    "plt.rcParams['lines.linewidth'] = 2"
   ]
  },
  {
   "cell_type": "code",
   "execution_count": null,
   "id": "failing-exercise",
   "metadata": {},
   "outputs": [],
   "source": [
    "# Geração do sinal QAM\n",
    "\n",
    "M   = 64        # ordem da modulação\n",
    "Fb  = 40e9      # taxa de símbolos\n",
    "SpS = 4         # amostras por símbolo\n",
    "Fs  = SpS*Fb    # taxa de amostragem\n",
    "SNR = 40        # relação sinal ruído (dB)\n",
    "rolloff = 0.01  # Rolloff do filtro formatador de pulso\n",
    "\n",
    "# Gera sequência de símbolos QAM e a filtra com um filtro formatador de pulso rrc (root-raised cosine)\n",
    "s = signals.ResampledQAM(M, 2**16, fb=Fb, fs=Fs, nmodes=2, resamplekwargs={\"beta\":rolloff, \"renormalise\":True}) \n",
    "\n",
    "# Adiciona ruído gaussiano\n",
    "s = impairments.simulate_transmission(s, snr=SNR)"
   ]
  },
  {
   "cell_type": "code",
   "execution_count": null,
   "id": "instructional-thousand",
   "metadata": {},
   "outputs": [],
   "source": [
    "# Plota espectro do sinal QAM em banda base\n",
    "fig = plt.figure(figsize=(8, 6), dpi=100, facecolor='w', edgecolor='k')\n",
    "plt.magnitude_spectrum(s[0],Fs=s.fs,scale='dB',color='C1')\n",
    "plt.magnitude_spectrum(s[1],Fs=s.fs,scale='dB',color='C0')\n",
    "plt.title('Base band QAM signal spectrum before LPF')\n",
    "plt.grid(True)\n",
    "\n",
    "# Filtra ruído fora da banda do sinal (out-of-band noise)\n",
    "sfilt = normcenter(lowpassFilter(s, Fs, 1/Fb, 0.001, taps=4001))\n",
    "fig = plt.figure(figsize=(8, 6), dpi=100, facecolor='w', edgecolor='k')\n",
    "plt.magnitude_spectrum(sfilt[0],Fs=s.fs,scale='dB',color='C1')\n",
    "plt.magnitude_spectrum(sfilt[1],Fs=s.fs,scale='dB',color='C0')\n",
    "plt.title('Base band QAM signal spectrum after LPF')\n",
    "plt.grid(True)"
   ]
  },
  {
   "cell_type": "code",
   "execution_count": null,
   "id": "casual-field",
   "metadata": {},
   "outputs": [],
   "source": [
    "# Gera sinal de fase mínima (sfm(t) = A + s(t)*exp(j*2π*Δf*t))\n",
    "\n",
    "sfm = sfilt.copy()\n",
    "\n",
    "t = np.arange(0,s[0].size)*1/s.fs\n",
    "\n",
    "A  = (np.max(np.abs(sfilt)))*np.exp(1j*np.deg2rad(45))\n",
    "Δf = 2*np.pi*(sfilt.fb/2)*t\n",
    "sfm = A + sfilt*np.exp(1j*Δf)\n",
    "\n",
    "plt.figure(figsize=(8, 6), dpi=100, facecolor='w', edgecolor='k')\n",
    "plt.magnitude_spectrum(sfm[0],Fs=s.fs,scale='dB',color='C1')\n",
    "plt.magnitude_spectrum(sfm[1],Fs=s.fs,scale='dB',color='C0')\n",
    "plt.title('QAM signal spectrum after PM operation')\n",
    "plt.grid(True)"
   ]
  },
  {
   "cell_type": "code",
   "execution_count": null,
   "id": "monetary-humanitarian",
   "metadata": {},
   "outputs": [],
   "source": [
    "plt.figure(figsize=(16,8))\n",
    "plt.plot(sfm[0,:10000].real,sfm[0,:10000].imag,linestyle='-',marker='o',\n",
    "                           markerfacecolor='tab:red',\n",
    "                           markeredgecolor='tab:red')\n",
    "plt.legend(['recieved signal'],loc='lower right')\n",
    "plt.xlabel('real')\n",
    "plt.ylabel('imag')\n",
    "plt.title('Constelation after PM operation')\n",
    "plt.grid(True)"
   ]
  },
  {
   "cell_type": "code",
   "execution_count": null,
   "id": "previous-remainder",
   "metadata": {},
   "outputs": [],
   "source": [
    "amplitudes_train = np.abs(sfm[0])   # valor absoluto do sinal -> entrada da rede\n",
    "phases_train     = np.angle(sfm[0,::SpS]) # fase do sinal     -> saída desejada \n",
    "\n",
    "amplitudes_test = np.abs(sfm[1])   # valor absoluto do sinal  -> entrada da rede\n",
    "phases_test     = np.angle(sfm[1,::SpS]) # fase do sinal      -> saída desejada \n",
    "\n",
    "L = 10\n",
    "fig, axes = plt.subplots(nrows=2, ncols=1, figsize=(16, 12))\n",
    "\n",
    "axes[0].set_title(\"ABS of the QAM Sinal\")\n",
    "axes[0].plot(t[0:int(4*L)], amplitudes_train[0:int(4*L)],'-o', color='C0')\n",
    "axes[0].set_ylabel(\"Amplitude\")\n",
    "axes[0].grid(True)\n",
    "\n",
    "axes[1].plot(t[0:L], phases_train[0:L],'-o', color='C1')\n",
    "axes[1].set_title(\"Phase of the QAM Sinal\")\n",
    "axes[1].set_xlabel(\"Tempo (s)\")\n",
    "axes[1].set_ylabel(\"Phase (rad)\")\n",
    "axes[1].grid(True)"
   ]
  },
  {
   "cell_type": "code",
   "execution_count": null,
   "id": "fatal-graduate",
   "metadata": {},
   "outputs": [],
   "source": [
    "X_train = amplitudes_train.reshape(-1,SpS)[:5000]\n",
    "X_test = amplitudes_test.reshape(-1,SpS)[:5000]"
   ]
  },
  {
   "cell_type": "code",
   "execution_count": null,
   "id": "addressed-length",
   "metadata": {},
   "outputs": [],
   "source": [
    "y_train = phases_train.reshape(-1,1)[:5000]\n",
    "\n",
    "y_test = phases_test.reshape(-1,1)[:5000]"
   ]
  },
  {
   "cell_type": "code",
   "execution_count": null,
   "id": "usual-mileage",
   "metadata": {
    "lines_to_next_cell": 0
   },
   "outputs": [],
   "source": [
    "scaler = MinMaxScaler()\n",
    "X_train = scaler.fit_transform(X_train)\n",
    "X_test = scaler.transform(X_test)"
   ]
  },
  {
   "cell_type": "code",
   "execution_count": null,
   "id": "corporate-handbook",
   "metadata": {},
   "outputs": [],
   "source": [
    "num_features = SpS\n",
    "length = 1\n",
    "generator = TimeseriesGenerator(X_train,y_train,length=length,batch_size=1)"
   ]
  },
  {
   "cell_type": "code",
   "execution_count": null,
   "id": "tribal-macintosh",
   "metadata": {},
   "outputs": [],
   "source": [
    "model = Sequential()\n",
    "model.add(LSTM(50, activation='relu', input_shape=(length, num_features)))\n",
    "model.add(Dense(50,activation='relu'))\n",
    "model.add(Dense(10,activation='relu'))\n",
    "model.add(Dense(1))\n",
    "model.compile(optimizer='adam', loss='mse')"
   ]
  },
  {
   "cell_type": "code",
   "execution_count": null,
   "id": "valuable-denial",
   "metadata": {},
   "outputs": [],
   "source": [
    "model.summary()"
   ]
  },
  {
   "cell_type": "code",
   "execution_count": null,
   "id": "conceptual-block",
   "metadata": {
    "lines_to_next_cell": 0
   },
   "outputs": [],
   "source": [
    "early_stop = EarlyStopping(monitor='val_loss',patience=3)"
   ]
  },
  {
   "cell_type": "code",
   "execution_count": null,
   "id": "dress-bankruptcy",
   "metadata": {
    "lines_to_next_cell": 0
   },
   "outputs": [],
   "source": [
    "validation_generator = TimeseriesGenerator(X_test,y_test, length=length, batch_size=1)"
   ]
  },
  {
   "cell_type": "code",
   "execution_count": null,
   "id": "indoor-victoria",
   "metadata": {
    "lines_to_next_cell": 0
   },
   "outputs": [],
   "source": [
    "model.fit_generator(generator,epochs=20,\n",
    "                    validation_data=validation_generator,\n",
    "                   callbacks=[early_stop])"
   ]
  },
  {
   "cell_type": "code",
   "execution_count": null,
   "id": "organic-safety",
   "metadata": {
    "lines_to_next_cell": 0
   },
   "outputs": [],
   "source": [
    "preds = []\n",
    "\n",
    "for x in range(100):\n",
    "    prediction = model.predict(validation_generator[x][0])[0][0]\n",
    "    preds.append(prediction)\n",
    "\n",
    "preds = np.array(preds).reshape((-1,1))"
   ]
  },
  {
   "cell_type": "code",
   "execution_count": null,
   "id": "mobile-plasma",
   "metadata": {
    "lines_to_next_cell": 0
   },
   "outputs": [],
   "source": [
    "model.evaluate_generator(validation_generator)"
   ]
  },
  {
   "cell_type": "code",
   "execution_count": null,
   "id": "continuous-turning",
   "metadata": {
    "lines_to_next_cell": 0
   },
   "outputs": [],
   "source": [
    "plt.figure(figsize=(16,8))\n",
    "plt.plot(y_test[:50],'-o')\n",
    "plt.plot(preds[:50],'-o')\n",
    "plt.xlabel('Symbol')\n",
    "plt.ylabel('phase (rad)')\n",
    "plt.legend(['True phases','predicted phases'])\n",
    "plt.title('True and predicted phases comparison')\n",
    "plt.grid(True)\n",
    "plt.show()"
   ]
  },
  {
   "cell_type": "code",
   "execution_count": null,
   "id": "floral-machinery",
   "metadata": {},
   "outputs": [],
   "source": []
  }
 ],
 "metadata": {
  "jupytext": {
   "cell_metadata_filter": "-all",
   "formats": "ipynb,py:percent",
   "main_language": "python"
  }
 },
 "nbformat": 4,
 "nbformat_minor": 5
}
