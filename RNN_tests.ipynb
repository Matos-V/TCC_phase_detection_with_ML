{
 "metadata": {
  "language_info": {
   "codemirror_mode": {
    "name": "ipython",
    "version": 3
   },
   "file_extension": ".py",
   "mimetype": "text/x-python",
   "name": "python",
   "nbconvert_exporter": "python",
   "pygments_lexer": "ipython3",
   "version": "3.7.10-final"
  },
  "orig_nbformat": 2,
  "kernelspec": {
   "name": "python3",
   "display_name": "Python 3",
   "language": "python"
  }
 },
 "nbformat": 4,
 "nbformat_minor": 2,
 "cells": [
  {
   "cell_type": "code",
   "execution_count": 15,
   "metadata": {},
   "outputs": [],
   "source": [
    "from qampy import signals, impairments, equalisation, phaserec, helpers\n",
    "from qampy.theory import ber_vs_es_over_n0_qam as ber_theory\n",
    "from qampy.helpers import normalise_and_center as normcenter\n",
    "from qampy.core.filter import rrcos_pulseshaping as lowpassFilter\n",
    "import matplotlib.pyplot as plt\n",
    "import numpy as np\n",
    "import seaborn as sns\n",
    "import pandas as pd\n",
    "import tensorflow as tf\n",
    "from tensorflow.keras.layers import Dense, Dropout, SimpleRNN, LSTM\n",
    "from tensorflow.keras.models import Sequential\n",
    "from tensorflow.keras.callbacks import EarlyStopping\n",
    "from sklearn.metrics import mean_squared_error, r2_score\n",
    "from sklearn.preprocessing import MinMaxScaler, StandardScaler\n",
    "from tensorflow.keras.preprocessing.sequence import TimeseriesGenerator\n",
    "from Funcoes import *"
   ]
  },
  {
   "cell_type": "code",
   "execution_count": 16,
   "metadata": {},
   "outputs": [],
   "source": [
    "plt.rcParams['font.size'] = 18\n",
    "plt.rcParams['figure.figsize'] = [16, 8]\n",
    "plt.rcParams['lines.linewidth'] = 2"
   ]
  },
  {
   "cell_type": "code",
   "execution_count": 27,
   "metadata": {},
   "outputs": [],
   "source": [
    "M = 64        # ordem da modulação\n",
    "Fb = 40e9      # taxa de símbolos\n",
    "SpS = 4         # amostras por símbolo\n",
    "Fs = SpS*Fb    # taxa de amostragem\n",
    "SNR = 40        # relação sinal ruído (dB)\n",
    "rolloff = 0.01  # Rolloff do filtro formatador de pulso\n",
    "sfm = sinal_qam_fase_min(M,Fb,SpS,SNR)\n",
    "ordem = 64\n",
    "dataset , X , y = dataset_02(sfm,ordem)"
   ]
  },
  {
   "cell_type": "code",
   "execution_count": 28,
   "metadata": {},
   "outputs": [],
   "source": [
    "X_train = X[:2000]\n",
    "X_test = X[2000:4000]\n",
    "\n",
    "y_train = y[:2000]\n",
    "y_test = y[2000:4000]"
   ]
  },
  {
   "cell_type": "code",
   "execution_count": 29,
   "metadata": {},
   "outputs": [
    {
     "output_type": "execute_result",
     "data": {
      "text/plain": [
       "(2000,)"
      ]
     },
     "metadata": {},
     "execution_count": 29
    }
   ],
   "source": [
    "y_test.shape"
   ]
  },
  {
   "cell_type": "code",
   "execution_count": 30,
   "metadata": {},
   "outputs": [],
   "source": [
    "scaler = MinMaxScaler()\n",
    "X_train = scaler.fit_transform(X_train)\n",
    "X_test = scaler.transform(X_test)"
   ]
  },
  {
   "cell_type": "code",
   "execution_count": 31,
   "metadata": {},
   "outputs": [],
   "source": [
    "num_features = ordem\n",
    "length = 16\n",
    "generator = TimeseriesGenerator(X_train, y_train, length=length, batch_size=1)"
   ]
  },
  {
   "cell_type": "code",
   "execution_count": 32,
   "metadata": {},
   "outputs": [],
   "source": [
    "model = Sequential()\n",
    "model.add(LSTM(100, activation='relu', input_shape=(length, num_features)))\n",
    "model.add(Dense(100, activation='relu'))\n",
    "model.add(Dropout(0.2))\n",
    "model.add(Dense(1))\n",
    "model.compile(optimizer='adam', loss='mse')"
   ]
  },
  {
   "cell_type": "code",
   "execution_count": 33,
   "metadata": {},
   "outputs": [
    {
     "output_type": "stream",
     "name": "stdout",
     "text": [
      "Model: \"sequential_2\"\n_________________________________________________________________\nLayer (type)                 Output Shape              Param #   \n=================================================================\nlstm_2 (LSTM)                (None, 100)               66000     \n_________________________________________________________________\ndense_4 (Dense)              (None, 100)               10100     \n_________________________________________________________________\ndropout_2 (Dropout)          (None, 100)               0         \n_________________________________________________________________\ndense_5 (Dense)              (None, 1)                 101       \n=================================================================\nTotal params: 76,201\nTrainable params: 76,201\nNon-trainable params: 0\n_________________________________________________________________\n"
     ]
    }
   ],
   "source": [
    "model.summary()"
   ]
  },
  {
   "cell_type": "code",
   "execution_count": 34,
   "metadata": {},
   "outputs": [],
   "source": [
    "early_stop = EarlyStopping(monitor='val_loss', patience=3)"
   ]
  },
  {
   "cell_type": "code",
   "execution_count": 35,
   "metadata": {},
   "outputs": [],
   "source": [
    "validation_generator = TimeseriesGenerator(\n",
    "    X_test, y_test, length=length, batch_size=1)"
   ]
  },
  {
   "cell_type": "code",
   "execution_count": 36,
   "metadata": {},
   "outputs": [
    {
     "output_type": "stream",
     "name": "stdout",
     "text": [
      "WARNING:tensorflow:sample_weight modes were coerced from\n",
      "  ...\n",
      "    to  \n",
      "  ['...']\n",
      "WARNING:tensorflow:sample_weight modes were coerced from\n",
      "  ...\n",
      "    to  \n",
      "  ['...']\n",
      "Train for 1984 steps, validate for 1984 steps\n",
      "Epoch 1/20\n",
      "1984/1984 [==============================] - 137s 69ms/step - loss: 0.0437 - val_loss: 0.0068\n",
      "Epoch 2/20\n",
      "1984/1984 [==============================] - 118s 60ms/step - loss: 0.0109 - val_loss: 0.0045\n",
      "Epoch 3/20\n",
      "1984/1984 [==============================] - 150s 76ms/step - loss: 0.0088 - val_loss: 0.0061\n",
      "Epoch 4/20\n",
      "1984/1984 [==============================] - 140s 71ms/step - loss: 0.0072 - val_loss: 0.0038\n",
      "Epoch 5/20\n",
      "1984/1984 [==============================] - 131s 66ms/step - loss: 0.0057 - val_loss: 0.0025\n",
      "Epoch 6/20\n",
      "1984/1984 [==============================] - 153s 77ms/step - loss: 0.0050 - val_loss: 0.0029\n",
      "Epoch 7/20\n",
      "1984/1984 [==============================] - 141s 71ms/step - loss: 0.0050 - val_loss: 0.0067\n",
      "Epoch 8/20\n",
      "1984/1984 [==============================] - 123s 62ms/step - loss: 0.0045 - val_loss: 0.0021\n",
      "Epoch 9/20\n",
      "1984/1984 [==============================] - 118s 59ms/step - loss: 0.0039 - val_loss: 0.0024\n",
      "Epoch 10/20\n",
      "1984/1984 [==============================] - 120s 61ms/step - loss: 0.0038 - val_loss: 0.0029\n",
      "Epoch 11/20\n",
      "1984/1984 [==============================] - 120s 60ms/step - loss: 0.0036 - val_loss: 0.0020\n",
      "Epoch 12/20\n",
      "1984/1984 [==============================] - 120s 60ms/step - loss: 0.0034 - val_loss: 0.0020\n",
      "Epoch 13/20\n",
      "1984/1984 [==============================] - 120s 60ms/step - loss: 0.0036 - val_loss: 0.0037\n",
      "Epoch 14/20\n",
      "1984/1984 [==============================] - 125s 63ms/step - loss: 0.0035 - val_loss: 0.0024\n"
     ]
    },
    {
     "output_type": "execute_result",
     "data": {
      "text/plain": [
       "<tensorflow.python.keras.callbacks.History at 0x7fce701c05d0>"
      ]
     },
     "metadata": {},
     "execution_count": 36
    }
   ],
   "source": [
    "model.fit_generator(generator, epochs=20,\n",
    "                    validation_data=validation_generator,\n",
    "                    callbacks=[early_stop])"
   ]
  },
  {
   "cell_type": "code",
   "execution_count": null,
   "metadata": {},
   "outputs": [],
   "source": []
  }
 ]
}