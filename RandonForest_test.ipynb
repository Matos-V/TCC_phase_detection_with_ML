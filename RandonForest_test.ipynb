{
 "cells": [
  {
   "cell_type": "code",
   "execution_count": null,
   "id": "endless-jacob",
   "metadata": {},
   "outputs": [],
   "source": [
    "from qampy import signals, impairments, equalisation, phaserec, helpers\n",
    "from qampy.theory import ber_vs_es_over_n0_qam as ber_theory\n",
    "from qampy.helpers import normalise_and_center as normcenter\n",
    "from qampy.core.filter import rrcos_pulseshaping as lowpassFilter\n",
    "import matplotlib.pyplot as plt\n",
    "import numpy as np\n",
    "import seaborn as sns\n",
    "import pandas as pd\n",
    "from sklearn.metrics import mean_squared_error, r2_score\n",
    "from sklearn.preprocessing import MinMaxScaler, StandardScaler\n",
    "from sklearn.ensemble import RandomForestRegressor"
   ]
  },
  {
   "cell_type": "code",
   "execution_count": null,
   "id": "hearing-veteran",
   "metadata": {},
   "outputs": [],
   "source": [
    "plt.rcParams['font.size'] = 18\n",
    "plt.rcParams['figure.figsize'] = [16, 8]\n",
    "plt.rcParams['lines.linewidth'] = 2"
   ]
  },
  {
   "cell_type": "code",
   "execution_count": null,
   "id": "higher-triangle",
   "metadata": {},
   "outputs": [],
   "source": [
    "dataset_train = pd.read_pickle('Testes_sinais_digitais/dataset_train_03.pkl')\n",
    "dataset_test = pd.read_pickle('Testes_sinais_digitais/dataset_test_03.pkl')\n",
    "data_shape = dataset_train.shape[-1]\n",
    "num_features = data_shape-1"
   ]
  },
  {
   "cell_type": "code",
   "execution_count": null,
   "id": "guilty-slave",
   "metadata": {
    "lines_to_next_cell": 0
   },
   "outputs": [],
   "source": [
    "X_train = dataset_train.drop(\n",
    "    data_shape-1, axis=1).values.reshape(-1, num_features)\n",
    "X_test = dataset_test.drop(\n",
    "    data_shape-1, axis=1).values.reshape(-1, num_features)\n",
    "\n",
    "y_train = dataset_train[data_shape-1].values.reshape(-1, 1)\n",
    "y_test = dataset_test[data_shape-1].values.reshape(-1, 1)"
   ]
  },
  {
   "cell_type": "code",
   "execution_count": null,
   "id": "entire-envelope",
   "metadata": {},
   "outputs": [],
   "source": [
    "scaler = MinMaxScaler()"
   ]
  },
  {
   "cell_type": "code",
   "execution_count": null,
   "id": "specified-bottle",
   "metadata": {
    "lines_to_next_cell": 0
   },
   "outputs": [],
   "source": [
    "X_train = scaler.fit_transform(X_train)\n",
    "X_test = scaler.transform(X_test)"
   ]
  },
  {
   "cell_type": "code",
   "execution_count": null,
   "id": "directed-cameroon",
   "metadata": {
    "lines_to_next_cell": 0
   },
   "outputs": [],
   "source": [
    "forest = RandomForestRegressor(200)\n",
    "forest.fit(X_train, y_train)"
   ]
  },
  {
   "cell_type": "code",
   "execution_count": null,
   "id": "contrary-boost",
   "metadata": {
    "lines_to_next_cell": 0
   },
   "outputs": [],
   "source": [
    "y_preds = forest.predict(X_test)"
   ]
  },
  {
   "cell_type": "code",
   "execution_count": null,
   "id": "proof-tokyo",
   "metadata": {
    "lines_to_next_cell": 0
   },
   "outputs": [],
   "source": [
    "print('rmse = ', np.sqrt(mean_squared_error(y_test, y_preds)))\n",
    "print('r2 = ', r2_score(y_test, y_preds))"
   ]
  },
  {
   "cell_type": "code",
   "execution_count": null,
   "id": "recorded-habitat",
   "metadata": {},
   "outputs": [],
   "source": [
    "plt.figure(figsize=(16, 8))\n",
    "plt.plot(y_test[:50], '-o')\n",
    "plt.plot(y_preds[:50], '-o')\n",
    "plt.xlabel('Symbol')\n",
    "plt.ylabel('phase (rad)')\n",
    "plt.legend(['True phases', 'predicted phases'])\n",
    "plt.title('True and predicted phases comparison')\n",
    "plt.grid(True)\n",
    "plt.show()"
   ]
  },
  {
   "cell_type": "code",
   "execution_count": null,
   "id": "simplified-tablet",
   "metadata": {
    "lines_to_next_cell": 0
   },
   "outputs": [],
   "source": [
    "M = 64        # ordem da modulação\n",
    "Fb = 40e9      # taxa de símbolos\n",
    "SpS = 4         # amostras por símbolo\n",
    "Fs = SpS*Fb    # taxa de amostragem\n",
    "SNR = 40        # relação sinal ruído (dB)\n",
    "rolloff = 0.01  # Rolloff do filtro formatador de pulso"
   ]
  },
  {
   "cell_type": "code",
   "execution_count": null,
   "id": "streaming-search",
   "metadata": {
    "lines_to_next_cell": 0
   },
   "outputs": [],
   "source": [
    "sig_abs = scaler.inverse_transform(X_test)[:].reshape((-1))\n",
    "size = sig_abs.shape[0]\n",
    "sinal = sig_abs*np.exp(1j*y_test.reshape(-1))"
   ]
  },
  {
   "cell_type": "code",
   "execution_count": null,
   "id": "cutting-explanation",
   "metadata": {},
   "outputs": [],
   "source": [
    "t = np.arange(0, s[0].size)*1/Fs\n",
    "\n",
    "A = (np.max(np.abs(sfilt)))*np.exp(1j*np.deg2rad(45))\n",
    "Δf = 2*np.pi*(sfilt.fb/2)*t\n",
    "sfm = A + sfilt*np.exp(1j*Δf)"
   ]
  },
  {
   "cell_type": "code",
   "execution_count": null,
   "id": "sensitive-wisdom",
   "metadata": {},
   "outputs": [],
   "source": [
    "signals.from_"
   ]
  }
 ],
 "metadata": {
  "jupytext": {
   "cell_metadata_filter": "-all",
   "formats": "ipynb,py:percent",
   "main_language": "python"
  }
 },
 "nbformat": 4,
 "nbformat_minor": 5
}
