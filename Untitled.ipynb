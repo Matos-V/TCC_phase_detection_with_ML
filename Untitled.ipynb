{
 "cells": [
  {
   "cell_type": "code",
   "execution_count": 1,
   "id": "foster-consolidation",
   "metadata": {},
   "outputs": [],
   "source": [
    "from Funcoes import *"
   ]
  },
  {
   "cell_type": "code",
   "execution_count": 2,
   "id": "current-airfare",
   "metadata": {},
   "outputs": [],
   "source": [
    "M = 64        # ordem da modulação\n",
    "Fb = 40e9      # taxa de símbolos\n",
    "SpS = 4         # amostras por símbolo\n",
    "Fs = SpS*Fb    # taxa de amostragem\n",
    "SNR = 40        # relação sinal ruído (dB)\n",
    "rolloff = 0.01  # Rolloff do filtro formatador de pulso"
   ]
  },
  {
   "cell_type": "code",
   "execution_count": 3,
   "id": "facial-activity",
   "metadata": {},
   "outputs": [],
   "source": [
    "sfm = qam_signal_phase_min(M,Fb,SpS,SNR)"
   ]
  },
  {
   "cell_type": "code",
   "execution_count": 4,
   "id": "naval-norway",
   "metadata": {},
   "outputs": [],
   "source": [
    "ordem = 16\n",
    "dataset , X , y = dataset_02(sfm,ordem)"
   ]
  },
  {
   "cell_type": "code",
   "execution_count": 5,
   "id": "trained-overhead",
   "metadata": {},
   "outputs": [
    {
     "output_type": "execute_result",
     "data": {
      "text/plain": [
       "(60000,)"
      ]
     },
     "metadata": {},
     "execution_count": 5
    }
   ],
   "source": [
    "dataset['phases'].shape"
   ]
  },
  {
   "cell_type": "code",
   "execution_count": 12,
   "id": "bound-magic",
   "metadata": {},
   "outputs": [
    {
     "output_type": "execute_result",
     "data": {
      "text/plain": [
       "1.5973491536233564"
      ]
     },
     "metadata": {},
     "execution_count": 12
    }
   ],
   "source": [
    "dataset['amplitudes'][-1]"
   ]
  },
  {
   "cell_type": "code",
   "execution_count": 13,
   "id": "frank-simpson",
   "metadata": {},
   "outputs": [
    {
     "output_type": "execute_result",
     "data": {
      "text/plain": [
       "1.5973491536233564"
      ]
     },
     "metadata": {},
     "execution_count": 13
    }
   ],
   "source": [
    "X[-1,int(ordem/2)]"
   ]
  },
  {
   "cell_type": "code",
   "execution_count": 8,
   "id": "objective-identifier",
   "metadata": {},
   "outputs": [
    {
     "output_type": "execute_result",
     "data": {
      "text/plain": [
       "(60000,)"
      ]
     },
     "metadata": {},
     "execution_count": 8
    }
   ],
   "source": [
    "y.shape"
   ]
  },
  {
   "cell_type": "code",
   "execution_count": 9,
   "id": "biblical-killing",
   "metadata": {},
   "outputs": [
    {
     "output_type": "execute_result",
     "data": {
      "text/plain": [
       "0.7187024932530832"
      ]
     },
     "metadata": {},
     "execution_count": 9
    }
   ],
   "source": [
    "y[-1]"
   ]
  },
  {
   "cell_type": "code",
   "execution_count": 10,
   "metadata": {},
   "outputs": [
    {
     "output_type": "execute_result",
     "data": {
      "text/plain": [
       "0.7187024932530832"
      ]
     },
     "metadata": {},
     "execution_count": 10
    }
   ],
   "source": [
    "dataset['phases'][-1]"
   ]
  },
  {
   "cell_type": "code",
   "execution_count": 10,
   "id": "least-arctic",
   "metadata": {},
   "outputs": [
    {
     "name": "stdout",
     "output_type": "stream",
     "text": [
      "Help on function dataset_01 in module Funcoes:\n",
      "\n",
      "dataset_01(sfm, ordem: int)\n",
      "    O dataset criado pela função é o resultado de uma convolução simples ao longo\n",
      "    do vetor das amplitudes, para a criação das features, e a fase correspondente à\n",
      "    ultima amostras de amplitude em cada passo da convolução.\n",
      "    \n",
      "    Args:\n",
      "        sfm (ResampledQAM: np.ndarray): Símbolos do sinal QAM a ser observado\n",
      "        ordem (int): Número de amostras de amplitudes a serem observadas para a análise\n",
      "            de uma amostra de fase\n",
      "    \n",
      "    Returns:\n",
      "        data (dict[np.ndarray, np.ndarray]): Dicionário com os arrays contendo as informações de\n",
      "            amplitudes e fases do sinal.\n",
      "        X (np.ndarray): Matriz contendo as informações de amplitudes do sinal dispostas de tal \n",
      "            forma que qualquer algorítmo de regressão de ML pode utilizar como features.\n",
      "        y (np.ndarray): Vetor coluna contendo as informações de fases do sinal dispostas de tal \n",
      "            forma que qualquer algorítmo de regressão de ML pode utilizar como features.\n",
      "\n"
     ]
    }
   ],
   "source": [
    "help(dataset_01)"
   ]
  },
  {
   "cell_type": "code",
   "execution_count": 13,
   "id": "protected-heather",
   "metadata": {},
   "outputs": [
    {
     "output_type": "execute_result",
     "data": {
      "text/plain": [
       "262144"
      ]
     },
     "metadata": {},
     "execution_count": 13
    }
   ],
   "source": [
    "2**16*4"
   ]
  }
 ],
 "metadata": {
  "kernelspec": {
   "display_name": "Python 3",
   "language": "python",
   "name": "python3"
  },
  "language_info": {
   "codemirror_mode": {
    "name": "ipython",
    "version": 3
   },
   "file_extension": ".py",
   "mimetype": "text/x-python",
   "name": "python",
   "nbconvert_exporter": "python",
   "pygments_lexer": "ipython3",
   "version": "3.7.10-final"
  }
 },
 "nbformat": 4,
 "nbformat_minor": 5
}