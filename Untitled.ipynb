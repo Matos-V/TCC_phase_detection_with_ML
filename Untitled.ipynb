{
 "cells": [
  {
   "cell_type": "code",
   "execution_count": 1,
   "id": "foster-consolidation",
   "metadata": {},
   "outputs": [],
   "source": [
    "from Funcoes import *"
   ]
  },
  {
   "cell_type": "code",
   "execution_count": 2,
   "id": "current-airfare",
   "metadata": {},
   "outputs": [],
   "source": [
    "M = 64        # ordem da modulação\n",
    "Fb = 40e9      # taxa de símbolos\n",
    "SpS = 4         # amostras por símbolo\n",
    "Fs = SpS*Fb    # taxa de amostragem\n",
    "SNR = 40        # relação sinal ruído (dB)\n",
    "rolloff = 0.01  # Rolloff do filtro formatador de pulso"
   ]
  },
  {
   "cell_type": "code",
   "execution_count": 3,
   "id": "facial-activity",
   "metadata": {},
   "outputs": [],
   "source": [
    "sfm = qam_signal_phase_min(M,Fb,SpS,SNR)"
   ]
  },
  {
   "cell_type": "code",
   "execution_count": 4,
   "id": "naval-norway",
   "metadata": {},
   "outputs": [],
   "source": [
    "ordem = 16\n",
    "dataset , X , y = dataset_01(sfm,ordem)"
   ]
  },
  {
   "cell_type": "code",
   "execution_count": 5,
   "id": "trained-overhead",
   "metadata": {},
   "outputs": [
    {
     "data": {
      "text/plain": [
       "ResampledQAM([0.64458736, 0.26220299, 0.38595612, 0.66973016, 0.9015151 ])"
      ]
     },
     "execution_count": 5,
     "metadata": {},
     "output_type": "execute_result"
    }
   ],
   "source": [
    "dataset['phases'][:5]"
   ]
  },
  {
   "cell_type": "code",
   "execution_count": 6,
   "id": "bound-magic",
   "metadata": {},
   "outputs": [
    {
     "data": {
      "text/plain": [
       "(3000, 16)"
      ]
     },
     "execution_count": 6,
     "metadata": {},
     "output_type": "execute_result"
    }
   ],
   "source": [
    "X.shape"
   ]
  },
  {
   "cell_type": "code",
   "execution_count": 7,
   "id": "frank-simpson",
   "metadata": {},
   "outputs": [
    {
     "data": {
      "text/plain": [
       "ResampledQAM([1.75026293, 2.40912927, 3.50074669, 3.91590696, 3.48752389,\n",
       "              2.81680421, 2.68022679, 2.73184076, 2.36481513, 2.05333822,\n",
       "              2.62211065, 3.37447393, 3.70815025, 3.81584318, 3.97718682,\n",
       "              3.89893144])"
      ]
     },
     "execution_count": 7,
     "metadata": {},
     "output_type": "execute_result"
    }
   ],
   "source": [
    "dataset['amplitudes'][:16]"
   ]
  },
  {
   "cell_type": "code",
   "execution_count": 8,
   "id": "objective-identifier",
   "metadata": {},
   "outputs": [
    {
     "data": {
      "text/plain": [
       "1.0446475240909066"
      ]
     },
     "execution_count": 8,
     "metadata": {},
     "output_type": "execute_result"
    }
   ],
   "source": [
    "dataset['phases'][15]"
   ]
  },
  {
   "cell_type": "code",
   "execution_count": 9,
   "id": "biblical-killing",
   "metadata": {},
   "outputs": [
    {
     "data": {
      "text/plain": [
       "ResampledQAM([1.04464752])"
      ]
     },
     "execution_count": 9,
     "metadata": {},
     "output_type": "execute_result"
    }
   ],
   "source": [
    "y[0]"
   ]
  },
  {
   "cell_type": "code",
   "execution_count": 10,
   "id": "least-arctic",
   "metadata": {},
   "outputs": [
    {
     "name": "stdout",
     "output_type": "stream",
     "text": [
      "Help on function dataset_01 in module Funcoes:\n",
      "\n",
      "dataset_01(sfm, ordem: int)\n",
      "    O dataset criado pela função é o resultado de uma convolução simples ao longo\n",
      "    do vetor das amplitudes, para a criação das features, e a fase correspondente à\n",
      "    ultima amostras de amplitude em cada passo da convolução.\n",
      "    \n",
      "    Args:\n",
      "        sfm (ResampledQAM: np.ndarray): Símbolos do sinal QAM a ser observado\n",
      "        ordem (int): Número de amostras de amplitudes a serem observadas para a análise\n",
      "            de uma amostra de fase\n",
      "    \n",
      "    Returns:\n",
      "        data (dict[np.ndarray, np.ndarray]): Dicionário com os arrays contendo as informações de\n",
      "            amplitudes e fases do sinal.\n",
      "        X (np.ndarray): Matriz contendo as informações de amplitudes do sinal dispostas de tal \n",
      "            forma que qualquer algorítmo de regressão de ML pode utilizar como features.\n",
      "        y (np.ndarray): Vetor coluna contendo as informações de fases do sinal dispostas de tal \n",
      "            forma que qualquer algorítmo de regressão de ML pode utilizar como features.\n",
      "\n"
     ]
    }
   ],
   "source": [
    "help(dataset_01)"
   ]
  },
  {
   "cell_type": "code",
   "execution_count": null,
   "id": "protected-heather",
   "metadata": {},
   "outputs": [],
   "source": []
  }
 ],
 "metadata": {
  "kernelspec": {
   "display_name": "Python 3",
   "language": "python",
   "name": "python3"
  },
  "language_info": {
   "codemirror_mode": {
    "name": "ipython",
    "version": 3
   },
   "file_extension": ".py",
   "mimetype": "text/x-python",
   "name": "python",
   "nbconvert_exporter": "python",
   "pygments_lexer": "ipython3",
   "version": "3.7.10"
  }
 },
 "nbformat": 4,
 "nbformat_minor": 5
}
