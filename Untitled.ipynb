{
 "cells": [
  {
   "cell_type": "code",
   "execution_count": 1,
   "id": "falling-photography",
   "metadata": {},
   "outputs": [],
   "source": [
    "from Funcoes import *"
   ]
  },
  {
   "cell_type": "code",
   "execution_count": 2,
   "id": "extensive-longer",
   "metadata": {},
   "outputs": [],
   "source": [
    "M = 64        # ordem da modulação\n",
    "Fb = 40e9      # taxa de símbolos\n",
    "SpS = 4         # amostras por símbolo\n",
    "Fs = SpS*Fb    # taxa de amostragem\n",
    "SNR = 40        # relação sinal ruído (dB)\n",
    "rolloff = 0.01  # Rolloff do filtro formatador de pulso"
   ]
  },
  {
   "cell_type": "code",
   "execution_count": 3,
   "id": "nuclear-vietnam",
   "metadata": {},
   "outputs": [],
   "source": [
    "sfm = signal_phase_min(M,Fb,SpS,SNR)"
   ]
  },
  {
   "cell_type": "code",
   "execution_count": 4,
   "id": "underlying-shape",
   "metadata": {},
   "outputs": [],
   "source": [
    "dataset , X , y = dataset_01(sfm,16)"
   ]
  },
  {
   "cell_type": "code",
   "execution_count": 5,
   "id": "express-curve",
   "metadata": {},
   "outputs": [
    {
     "data": {
      "text/plain": [
       "ResampledQAM([0.91943265, 0.9634852 , 0.93844607, 0.76489932, 0.57290242])"
      ]
     },
     "execution_count": 5,
     "metadata": {},
     "output_type": "execute_result"
    }
   ],
   "source": [
    "dataset['phases'][:5]"
   ]
  },
  {
   "cell_type": "code",
   "execution_count": 12,
   "id": "medieval-malta",
   "metadata": {},
   "outputs": [
    {
     "data": {
      "text/plain": [
       "array([2.62050768, 2.41403969, 2.09766694, 1.89496915, 2.10526948,\n",
       "       2.50641725, 2.66709954, 2.53673325, 2.53008748, 2.90268283,\n",
       "       3.2167108 , 3.08141456, 2.69442666, 2.6834064 , 3.01225101,\n",
       "       2.95781908])"
      ]
     },
     "execution_count": 12,
     "metadata": {},
     "output_type": "execute_result"
    }
   ],
   "source": [
    "X[0]"
   ]
  },
  {
   "cell_type": "code",
   "execution_count": 14,
   "id": "sophisticated-madonna",
   "metadata": {},
   "outputs": [
    {
     "data": {
      "text/plain": [
       "ResampledQAM([2.62050768, 2.41403969, 2.09766694, 1.89496915, 2.10526948,\n",
       "              2.50641725, 2.66709954, 2.53673325, 2.53008748, 2.90268283,\n",
       "              3.2167108 , 3.08141456, 2.69442666, 2.6834064 , 3.01225101,\n",
       "              2.95781908])"
      ]
     },
     "execution_count": 14,
     "metadata": {},
     "output_type": "execute_result"
    }
   ],
   "source": [
    "dataset['amplitudes'][:16]"
   ]
  },
  {
   "cell_type": "code",
   "execution_count": null,
   "id": "similar-celtic",
   "metadata": {},
   "outputs": [],
   "source": [
    "dataset['amplitudes'][:16]"
   ]
  }
 ],
 "metadata": {
  "kernelspec": {
   "display_name": "Python 3",
   "language": "python",
   "name": "python3"
  },
  "language_info": {
   "codemirror_mode": {
    "name": "ipython",
    "version": 3
   },
   "file_extension": ".py",
   "mimetype": "text/x-python",
   "name": "python",
   "nbconvert_exporter": "python",
   "pygments_lexer": "ipython3",
   "version": "3.7.10"
  }
 },
 "nbformat": 4,
 "nbformat_minor": 5
}
